{
 "cells": [
  {
   "cell_type": "markdown",
   "id": "db18f6e1-c95e-4350-82bb-122157e5705a",
   "metadata": {},
   "source": [
    "# Compile a day of miniseed data"
   ]
  },
  {
   "cell_type": "code",
   "execution_count": 1,
   "id": "8a972a7b-629f-455b-8339-4b77272de047",
   "metadata": {
    "tags": []
   },
   "outputs": [],
   "source": [
    "import xarray as xr\n",
    "import os\n",
    "from scipy import signal\n",
    "import numpy as np"
   ]
  },
  {
   "cell_type": "code",
   "execution_count": null,
   "id": "14f6a58c-c7d3-40d6-91dc-df092db2e22d",
   "metadata": {},
   "outputs": [],
   "source": []
  }
 ],
 "metadata": {
  "kernelspec": {
   "display_name": "mich-ooi",
   "language": "python",
   "name": "mich-ooi"
  },
  "language_info": {
   "codemirror_mode": {
    "name": "ipython",
    "version": 3
   },
   "file_extension": ".py",
   "mimetype": "text/x-python",
   "name": "python",
   "nbconvert_exporter": "python",
   "pygments_lexer": "ipython3",
   "version": "3.11.3"
  }
 },
 "nbformat": 4,
 "nbformat_minor": 5
}
