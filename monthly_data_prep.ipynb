{
 "cells": [
  {
   "cell_type": "markdown",
   "id": "4c23f432-2480-48cc-a163-bdd23802170a",
   "metadata": {},
   "source": [
    "# Pre-process monthly datasets"
   ]
  },
  {
   "cell_type": "code",
   "execution_count": 3,
   "id": "0e6b2b39-e796-4ea1-9792-801653c63975",
   "metadata": {
    "tags": []
   },
   "outputs": [],
   "source": [
    "import compile_mseed_day as md\n",
    "import time\n",
    "import matplotlib.pyplot as plt\n",
    "import numpy as np"
   ]
  },
  {
   "cell_type": "code",
   "execution_count": null,
   "id": "4b3f223f-5d26-4027-bd92-8d5e0e599da2",
   "metadata": {},
   "outputs": [],
   "source": [
    "# Set instrument, year, and month\n",
    "instrument = \"RS03AXBS-LJ03A-09-HYDBBA302\"\n",
    "year = 2024\n",
    "month = 1\n",
    "days = np.arange(1,32)\n",
    "\n",
    "for day in days:\n",
    "    md.mseed_to_xarray(instrument, year, month, day)\n"
   ]
  },
  {
   "cell_type": "code",
   "execution_count": null,
   "id": "b52861f1-0657-4526-b395-f2a98599bb99",
   "metadata": {
    "tags": []
   },
   "outputs": [],
   "source": []
  },
  {
   "cell_type": "code",
   "execution_count": null,
   "id": "f3c17044-f913-4a6e-a0b8-308a4b2b0477",
   "metadata": {},
   "outputs": [],
   "source": []
  }
 ],
 "metadata": {
  "kernelspec": {
   "display_name": "mich-ooi",
   "language": "python",
   "name": "mich-ooi"
  },
  "language_info": {
   "codemirror_mode": {
    "name": "ipython",
    "version": 3
   },
   "file_extension": ".py",
   "mimetype": "text/x-python",
   "name": "python",
   "nbconvert_exporter": "python",
   "pygments_lexer": "ipython3",
   "version": "3.11.3"
  }
 },
 "nbformat": 4,
 "nbformat_minor": 5
}
