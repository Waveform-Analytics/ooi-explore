{
 "cells": [
  {
   "cell_type": "markdown",
   "id": "4c23f432-2480-48cc-a163-bdd23802170a",
   "metadata": {},
   "source": [
    "# Pre-process monthly datasets"
   ]
  },
  {
   "cell_type": "code",
   "execution_count": 1,
   "id": "0e6b2b39-e796-4ea1-9792-801653c63975",
   "metadata": {
    "tags": []
   },
   "outputs": [],
   "source": [
    "import compile_mseed_day as md\n",
    "import time\n",
    "import matplotlib.pyplot as plt\n",
    "import numpy as np\n",
    "import xarray as xr"
   ]
  },
  {
   "cell_type": "code",
   "execution_count": null,
   "id": "4b3f223f-5d26-4027-bd92-8d5e0e599da2",
   "metadata": {
    "tags": []
   },
   "outputs": [
    {
     "name": "stdout",
     "output_type": "stream",
     "text": [
      "Runniing Day # 1 of 31\n"
     ]
    }
   ],
   "source": [
    "# Set instrument, year, and month\n",
    "instrument = \"RS03AXBS-LJ03A-09-HYDBBA302\"\n",
    "year = 2024\n",
    "month = 1\n",
    "days = np.arange(1,32)\n",
    "\n",
    "for day in days:\n",
    "    print(\"Runniing Day # \" + str(day) + \" of \" + str(len(days)))\n",
    "    \n",
    "    day_quantiles = []\n",
    "    spec_xa = md.mseed_to_xarray(instrument, year, month, day, do_print=False)\n",
    "    \n",
    "    for step_idx in range(len(spec_xa.time)):\n",
    "        q95 = spec_xa.isel(time=step_idx).as_numpy().quantile([0.95], dim=\"seconds\")[0]\n",
    "        day_quantiles.append(q95)\n",
    "\n",
    "    quantiles = xr.concat(day_quantiles, dim=\"time\")   \n",
    "    quantiles[\"time\"] = spec_xa.time\n",
    "    \n",
    "    # Save to netcdf format\n",
    "    out_file_name = \"data/\" + instrument + \"-YMD.\" + f\"{year:04d}.{month:02d}.{day:02d}.nc\"\n",
    "    quantiles.to_netcdf(out_file_name)\n",
    "\n"
   ]
  },
  {
   "cell_type": "code",
   "execution_count": null,
   "id": "e9a21e7d-c9a6-4c8e-95cb-a50433aad5a8",
   "metadata": {},
   "outputs": [],
   "source": []
  }
 ],
 "metadata": {
  "kernelspec": {
   "display_name": "mich-ooi",
   "language": "python",
   "name": "mich-ooi"
  },
  "language_info": {
   "codemirror_mode": {
    "name": "ipython",
    "version": 3
   },
   "file_extension": ".py",
   "mimetype": "text/x-python",
   "name": "python",
   "nbconvert_exporter": "python",
   "pygments_lexer": "ipython3",
   "version": "3.11.3"
  }
 },
 "nbformat": 4,
 "nbformat_minor": 5
}
