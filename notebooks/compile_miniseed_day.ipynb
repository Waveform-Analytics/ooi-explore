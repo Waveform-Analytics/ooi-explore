{
 "cells": [
  {
   "cell_type": "markdown",
   "id": "db18f6e1-c95e-4350-82bb-122157e5705a",
   "metadata": {},
   "source": [
    "# Compile a day of miniseed data"
   ]
  },
  {
   "cell_type": "code",
   "execution_count": 14,
   "id": "8a972a7b-629f-455b-8339-4b77272de047",
   "metadata": {
    "tags": []
   },
   "outputs": [],
   "source": [
    "from obspy import read\n",
    "import xarray as xr\n",
    "import os\n",
    "from scipy import signal\n",
    "import numpy as np\n",
    "from datetime import datetime\n",
    "import dask.array as da\n",
    "import multiprocessing"
   ]
  },
  {
   "cell_type": "code",
   "execution_count": 2,
   "id": "14f6a58c-c7d3-40d6-91dc-df092db2e22d",
   "metadata": {
    "tags": []
   },
   "outputs": [],
   "source": [
    "instrument_day_path = \"../../ooi/san_data/RS03AXBS-LJ03A-09-HYDBBA302/2024/01/05\""
   ]
  },
  {
   "cell_type": "markdown",
   "id": "6dc80999-95e5-49fc-82f4-36f0531d7e09",
   "metadata": {},
   "source": [
    "## Find all the miniseed files for the selected instrument and day\n",
    "\n",
    "First define a function that recursively searches for all files with a \\*.mseed extension:"
   ]
  },
  {
   "cell_type": "code",
   "execution_count": 3,
   "id": "beb40fbf-e07c-45f9-b31b-54b53788e9d7",
   "metadata": {
    "tags": []
   },
   "outputs": [],
   "source": [
    "def find_mseed_files(directory):\n",
    "    mseed_files = []\n",
    "    for root, dirs, files in os.walk(directory):\n",
    "        for file in files:\n",
    "            if file.endswith(\".mseed\"):\n",
    "                mseed_files.append(os.path.join(root, file))\n",
    "    return mseed_files"
   ]
  },
  {
   "cell_type": "code",
   "execution_count": 21,
   "id": "1581a4f1-6ff9-4b3e-a024-aab93b396c4d",
   "metadata": {
    "tags": []
   },
   "outputs": [],
   "source": [
    "def make_xarray(file):\n",
    "    \n",
    "    time_string = file.split(\"YDH-\")[1].split('.mseed')[0]\n",
    "    time_val = datetime.strptime(time_string, '%Y-%m-%dT%H:%M:%S.%fZ')\n",
    "    \n",
    "    stream = read(file)\n",
    "    data = stream.detrend().split().decimate(16).merge(method=1, fill_value=\"interpolate\").decimate(10)\n",
    "    \n",
    "    fs = data[0].stats[\"sampling_rate\"]\n",
    "\n",
    "    # Set spectrogram parameters\n",
    "    segment_length_seconds = .5\n",
    "    nperseg = int(segment_length_seconds * fs)\n",
    "    noverlap_percent = 15\n",
    "    noverlap = int(nperseg * noverlap_percent/100)\n",
    "\n",
    "    f, t, Sxx = signal.spectrogram(data[0].data, fs, nperseg = nperseg, noverlap = noverlap)\n",
    "    array_out = xr.DataArray(np.log10(Sxx), \n",
    "                           dims=('frequency', 'seconds'),\n",
    "                           coords={'frequency':f, 'seconds':t})\n",
    "    array_out.coords['time'] = time_val\n",
    "\n",
    "    return array_out"
   ]
  },
  {
   "cell_type": "code",
   "execution_count": 37,
   "id": "380ed4f9-24a0-4c07-96f7-8fa034edd367",
   "metadata": {
    "tags": []
   },
   "outputs": [],
   "source": [
    "def parallel_process(data, func, sub_segment_length, n_processes=None):\n",
    "    if n_processes is None:\n",
    "        n_processes = multiprocessing.cpu_count() \n",
    "\n",
    "    pool = multiprocessing.Pool(processes=n_processes)\n",
    "    \n",
    "    # Initialize a list to hold the xarray sub-arrays\n",
    "    results_all = []\n",
    "    \n",
    "    # Break into a number of 5-minute segments at a time (30-mins total)\n",
    "    segments = [data[i:i + sub_segment_length] for i in range(0, len(data), sub_segment_length)]\n",
    "    for idx, segment in enumerate(segments):\n",
    "        print( \"Segment \" + str(idx+1) + \" of \" + str(len(segments)) )\n",
    "        results = pool.map(func, segment)\n",
    "        # Use dask for efficiency\n",
    "        dask_datasets = [da.chunk({'seconds': 50, 'frequency': 50}) for da in results]\n",
    "        results_all.append(xr.concat(dask_datasets, dim='time'))\n",
    "        del results\n",
    "        \n",
    "    pool.close() \n",
    "    pool.join()\n",
    "\n",
    "    return results_all"
   ]
  },
  {
   "cell_type": "code",
   "execution_count": 40,
   "id": "5e5f49ab-e609-4ff9-90bb-c9899eeb2020",
   "metadata": {
    "tags": []
   },
   "outputs": [],
   "source": [
    "mseed_files = find_mseed_files(instrument_day_path)"
   ]
  },
  {
   "cell_type": "code",
   "execution_count": 48,
   "id": "895329f8-5255-4a9a-98c5-c52293efd58e",
   "metadata": {
    "tags": []
   },
   "outputs": [
    {
     "name": "stdout",
     "output_type": "stream",
     "text": [
      "Segment 1 of 17\n",
      "Segment 2 of 17\n",
      "Segment 3 of 17\n",
      "Segment 4 of 17\n",
      "Segment 5 of 17\n",
      "Segment 6 of 17\n",
      "Segment 7 of 17\n",
      "Segment 8 of 17\n",
      "Segment 9 of 17\n",
      "Segment 10 of 17\n",
      "Segment 11 of 17\n",
      "Segment 12 of 17\n",
      "Segment 13 of 17\n",
      "Segment 14 of 17\n",
      "Segment 15 of 17\n",
      "Segment 16 of 17\n",
      "Segment 17 of 17\n"
     ]
    }
   ],
   "source": [
    "mseed_files_sub = mseed_files[0:100]\n",
    "results = parallel_process(mseed_files_sub, make_xarray, 6)\n",
    "results_full = xr.concat(results, dim='time').sortby('time')\n"
   ]
  },
  {
   "cell_type": "code",
   "execution_count": null,
   "id": "9dab88f0-a385-4765-a32e-d50be62f9f4c",
   "metadata": {},
   "outputs": [],
   "source": []
  },
  {
   "cell_type": "code",
   "execution_count": null,
   "id": "bba9b84d-bd35-40b7-bdd2-2941b51540d4",
   "metadata": {},
   "outputs": [],
   "source": []
  }
 ],
 "metadata": {
  "kernelspec": {
   "display_name": "mich-ooi",
   "language": "python",
   "name": "mich-ooi"
  },
  "language_info": {
   "codemirror_mode": {
    "name": "ipython",
    "version": 3
   },
   "file_extension": ".py",
   "mimetype": "text/x-python",
   "name": "python",
   "nbconvert_exporter": "python",
   "pygments_lexer": "ipython3",
   "version": "3.11.3"
  }
 },
 "nbformat": 4,
 "nbformat_minor": 5
}
