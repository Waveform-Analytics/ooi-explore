{
 "cells": [
  {
   "cell_type": "markdown",
   "id": "db06b9f3-046e-436d-9fa7-32949379dc31",
   "metadata": {},
   "source": [
    "# Compile mseed days: Example usage\n",
    "\n",
    "This notebook provides an example of how you can use the compile_mseed_day.py module to convert a day of miniseed files into an xarray with a spectrogram for every 5-minute file."
   ]
  },
  {
   "cell_type": "code",
   "execution_count": 1,
   "id": "d9363945-52fc-479e-af41-c35ff2eb54cb",
   "metadata": {
    "tags": []
   },
   "outputs": [],
   "source": [
    "import compile_mseed_day as md\n",
    "import time"
   ]
  },
  {
   "cell_type": "markdown",
   "id": "e9beb270-17fb-4006-ac90-9650abf1bb4e",
   "metadata": {},
   "source": [
    "## Get an xarray of spectrograms\n",
    "\n",
    "All you need to do is select an instrument, and specify the year, month, and day. By default the data is broken down into half-hour segments, so there should be 48 total segments in a day, assuming all files are present.\n"
   ]
  },
  {
   "cell_type": "code",
   "execution_count": 3,
   "id": "2b8a1c7e-fa08-43ac-9a47-a6140d31528b",
   "metadata": {
    "tags": []
   },
   "outputs": [
    {
     "name": "stdout",
     "output_type": "stream",
     "text": [
      "Segment 1 of 48\n",
      "Segment 2 of 48\n",
      "Segment 3 of 48\n",
      "Segment 4 of 48\n",
      "Segment 5 of 48\n",
      "Segment 6 of 48\n",
      "Segment 7 of 48\n",
      "Segment 8 of 48\n",
      "Segment 9 of 48\n",
      "Segment 10 of 48\n",
      "Segment 11 of 48\n",
      "Segment 12 of 48\n",
      "Segment 13 of 48\n",
      "Segment 14 of 48\n",
      "Segment 15 of 48\n",
      "Segment 16 of 48\n",
      "Segment 17 of 48\n",
      "Segment 18 of 48\n",
      "Segment 19 of 48\n",
      "Segment 20 of 48\n",
      "Segment 21 of 48\n",
      "Segment 22 of 48\n",
      "Segment 23 of 48\n",
      "Segment 24 of 48\n",
      "Segment 25 of 48\n",
      "Segment 26 of 48\n",
      "Segment 27 of 48\n",
      "Segment 28 of 48\n",
      "Segment 29 of 48\n",
      "Segment 30 of 48\n",
      "Segment 31 of 48\n",
      "Segment 32 of 48\n",
      "Segment 33 of 48\n",
      "Segment 34 of 48\n",
      "Segment 35 of 48\n",
      "Segment 36 of 48\n",
      "Segment 37 of 48\n",
      "Segment 38 of 48\n",
      "Segment 39 of 48\n",
      "Segment 40 of 48\n",
      "Segment 41 of 48\n",
      "Segment 42 of 48\n",
      "Segment 43 of 48\n",
      "Segment 44 of 48\n",
      "Segment 45 of 48\n",
      "Segment 46 of 48\n",
      "Segment 47 of 48\n",
      "Segment 48 of 48\n"
     ]
    },
    {
     "data": {
      "text/plain": [
       "244.0396285057068"
      ]
     },
     "execution_count": 3,
     "metadata": {},
     "output_type": "execute_result"
    }
   ],
   "source": [
    "# Set instrument and date\n",
    "instrument = \"RS03AXBS-LJ03A-09-HYDBBA302\"\n",
    "year = 2024\n",
    "month = 1\n",
    "day = 1\n",
    "\n",
    "# timing\n",
    "start_time = time.time()\n",
    "\n",
    "# function\n",
    "spec_xa = md.mseed_to_xarray(instrument, year, month, day)\n",
    "\n",
    "# timing\n",
    "end_time = time.time()\n",
    "elapsed = end_time - start_time\n",
    "elapsed"
   ]
  },
  {
   "cell_type": "code",
   "execution_count": null,
   "id": "76fa7a82-e1c9-4690-9be9-0d1ae5cca014",
   "metadata": {},
   "outputs": [],
   "source": []
  }
 ],
 "metadata": {
  "kernelspec": {
   "display_name": "mich-ooi",
   "language": "python",
   "name": "mich-ooi"
  },
  "language_info": {
   "codemirror_mode": {
    "name": "ipython",
    "version": 3
   },
   "file_extension": ".py",
   "mimetype": "text/x-python",
   "name": "python",
   "nbconvert_exporter": "python",
   "pygments_lexer": "ipython3",
   "version": "3.11.3"
  }
 },
 "nbformat": 4,
 "nbformat_minor": 5
}
